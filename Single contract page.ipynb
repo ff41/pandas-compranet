{
 "cells": [
  {
   "cell_type": "markdown",
   "metadata": {},
   "source": [
    "# Esquema página single de un contrato"
   ]
  },
  {
   "cell_type": "markdown",
   "metadata": {},
   "source": [
    "## Datos generales del proceso de contratación  (1)\n",
    "\n",
    "- Dependencia\n",
    "    - Unidad Compradora\n",
    "- Proveedor\n",
    "- Título\n",
    "- Importe\n",
    "- Fecha inicio\n",
    "- Fecha Fin"
   ]
  },
  {
   "cell_type": "markdown",
   "metadata": {},
   "source": [
    "## Datos generales del proceso de contratación (2)\n",
    "\n",
    "- Organizaciones\n",
    "    - Esquema \"Party\"\n",
    "- Título\n",
    "- Importe\n",
    "- Fecha inicio del contrato\n",
    "- Fecha Fin del contrato"
   ]
  },
  {
   "cell_type": "markdown",
   "metadata": {},
   "source": [
    "## Planeación \n",
    "\n",
    "- Título del expediente\n",
    "- Presupuesto\n",
    "    - Ramo\n",
    "    - Valor\n",
    "        - monto\n",
    "        - moneda\n",
    "    - Clave de cartera\n",
    "    - Crédito externo\n",
    "        - Organismo internacional financiero\n",
    "    - Aportación federal\n",
    "    - *Documentos*"
   ]
  },
  {
   "cell_type": "markdown",
   "metadata": {},
   "source": [
    "## Convocatoria\n",
    "\n",
    "- *Descripción*\n",
    "- __*Estatus de la licitación*__\n",
    "- Fecha de publicación\n",
    "    - Fecha inicio\n",
    "    - Fecha fin\n",
    "- Carácter\n",
    "- Tipo de procedimiento\n",
    "- Tipo de contratación\n",
    "- Forma del procedimiento\n",
    "    - Electrónica, Presencial, Mixta\n",
    "- *Artículos por adquirir*\n",
    "- *Número de participantes*\n",
    "- *Monto estimado*\n",
    "- *Criterios de elegibilidad*\n",
    "- *Criterios de convocatoria*\n",
    "- *Junta de aclaraciones*"
   ]
  },
  {
   "cell_type": "markdown",
   "metadata": {},
   "source": [
    "## Adjudicaciones\n",
    "\n",
    "- Adjudicación 1\n",
    "    - Título\n",
    "    - *Descripción*\n",
    "    - Fecha\n",
    "    - *Estatus*\n",
    "    - Valor adjudicado\n",
    "      - monto\n",
    "      - moneda\n",
    "    - Proveedores\n",
    "      - nombre legal\n",
    "    \n",
    "\n",
    "\n"
   ]
  },
  {
   "cell_type": "markdown",
   "metadata": {},
   "source": [
    "## Contratos\n",
    "\n",
    "- Contrato 1\n",
    "    - Título\n",
    "    - *Descripción*\n",
    "    - Estatus\n",
    "    - Fecha de celebración\n"
   ]
  },
  {
   "cell_type": "code",
   "execution_count": null,
   "metadata": {
    "collapsed": true
   },
   "outputs": [],
   "source": []
  }
 ],
 "metadata": {
  "kernelspec": {
   "display_name": "Python 2",
   "language": "python",
   "name": "python2"
  },
  "language_info": {
   "codemirror_mode": {
    "name": "ipython",
    "version": 2
   },
   "file_extension": ".py",
   "mimetype": "text/x-python",
   "name": "python",
   "nbconvert_exporter": "python",
   "pygments_lexer": "ipython2",
   "version": "2.7.13"
  }
 },
 "nbformat": 4,
 "nbformat_minor": 2
}
