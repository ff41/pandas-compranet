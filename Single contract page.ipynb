{
 "cells": [
  {
   "cell_type": "markdown",
   "metadata": {},
   "source": [
    "# Datos generales"
   ]
  },
  {
   "cell_type": "markdown",
   "metadata": {},
   "source": [
    "- Dependencia: Instituto Mexicano del Seguro Social\n",
    "- Unidad Compradora:  IMSS-Hospital de Gineco Pediatria UMAE No 48 #019GYR074\n",
    "- Clave Unidad Compradora: #019GYR074\n",
    "- Proveedor: SONOMEDICS SA DE CV\n",
    "- Título contrato: Adquisicion de los grupos de suministro 060 y 080\n",
    "- Fecha inicio: August 5th 2017, 19:00:00.000\n",
    "- Fecha fin: August 15th 2017, 19:00:00.000\n",
    "- Importe: $2,607 MXN"
   ]
  },
  {
   "cell_type": "markdown",
   "metadata": {},
   "source": [
    "## Planeación\n",
    "\n",
    "- Título del expediente: Adquisicion de los grupos de suministro 060 y 080\n",
    "- Presupuesto\n",
    "    - Ramo: (vacío excel)\n",
    "    - Valor: (no existe)\n",
    "        - monto:\n",
    "        - moneda:\n",
    "    - Clave de cartera: (vacío excel)\n",
    "    - Crédito externo: (vacío excel)\n",
    "        - Organismo internacional financiero: (vacío excel)\n",
    "    - Aportación federal: (vacío excel)\n",
    "    - *Documentos*: (web compranet)"
   ]
  },
  {
   "cell_type": "markdown",
   "metadata": {},
   "source": [
    "## Licitación\n",
    "\n",
    "- *Descripción*: (no existe)\n",
    "- Estatus de la licitación: Terminado\n",
    "- Fecha de publicación: \n",
    "    - Fecha inicio: 2016-07-28 16:08\n",
    "    - Fecha fin: 2016-08-04 10:00\n",
    "- Carácter: Internacional\n",
    "- Tipo de procedimiento: Adjudicación Directa Federal\n",
    "- Tipo de contratación: Adquisiciones\n",
    "- Forma del procedimiento: Mixta\n",
    "- Anuncio: https://compranet.funcionpublica.gob.mx/esop/guest/go/opportunity/detail?opportunityId=923163\n",
    "- \"Documentos\": (web compranet)\n",
    "- *Artículos por adquirir*: (web compranet)\n",
    "- *Número de participantes*: (web compranet)\n",
    "- *Monto estimado*: (web compranet)\n",
    "- *Criterios de elegibilidad*: (web compranet)\n",
    "- *Criterios de convocatoria*: (web compranet)\n",
    "- *Junta de aclaraciones*: (web compranet)"
   ]
  },
  {
   "cell_type": "markdown",
   "metadata": {},
   "source": [
    "## Adjudicaciones\n",
    "\n",
    "- Adjudicación 1\n",
    "    - Título expediente: Adquisicion de los grupos de suministro 060 y 080\n",
    "    - *Descripción*: (no existe)\n",
    "    - Fecha del fallo: (vacío excel)\n",
    "    - *Estatus*: Completado\n",
    "    - Valor adjudicado\n",
    "      - monto: 2,607\n",
    "      - moneda: MXN\n",
    "    - Proveedores\n",
    "      - SONOMEDICS SA DE CV\n",
    "    - *Documentos*: (web compranet)\n",
    "    "
   ]
  },
  {
   "cell_type": "markdown",
   "metadata": {},
   "source": [
    "## Contratos\n",
    "\n",
    "- Contrato 1\n",
    "    - Título contrato: Adquisicion de los grupos de suministro 060 y 080\n",
    "    - *Descripción*: (no existe)\n",
    "    - Estatus: Activo\n",
    "    - Fecha de celebración: (vacío excel)\n",
    "    - *Documentos*: (web compranet)\n"
   ]
  },
  {
   "cell_type": "markdown",
   "metadata": {},
   "source": [
    "## Implementación\n",
    "\n",
    "- Título contrato: Adquisicion de los grupos de suministro 060 y 080\n",
    "- Valor contratado: \n",
    "     - monto: 2,607\n",
    "     - moneda: MXN\n",
    "- *Valor pagado*: (no existe)\n",
    "- *Transacciones*: (no existe)\n",
    "- *Entregas*: (no existe)\n",
    "- *Documentos*: (no existe)"
   ]
  },
  {
   "cell_type": "markdown",
   "metadata": {},
   "source": [
    "# __Anotaciones__:"
   ]
  },
  {
   "cell_type": "markdown",
   "metadata": {},
   "source": [
    "- En los diferentes bloques van a encontrar campos en itálica. Esto significa que nosotros no tenemos datos para este campo y que tampoco los hemos contemplado en nuestro esquema. La razón simplemente es porque no hay una columna en Compranet para éstos. Sin embargo, en la última junta se charló sobre lo útil que sería ejemplificar cuan poca información provee compranet sobre los procesos de contratación. Los agregué para entender cuanta información no provee compranet versus el OCDS completo para decidir que conviene mostrar en nuestra página. La única información extra que no se agregó del OCDS que no contemplamos ni en nueestro esquema ni en el front end es la de los “Amendments” o como dijo K, parches que modifican la información del bloque.\n",
    "\n",
    "\n",
    "- El campo “Estatus de la licitación” no lo tenemos pero lo podemos calcular tomando el tiempo de Fecha de convocatoria y Fecha de apertura de proposiciones.\n",
    "\n",
    "\n",
    "- ~~La traducción que existe en el github de OCDS CDMX( https://github.com/gabelula/mx-ocds/blob/master/es_MX.csv) es literal del inglés al español y no toma en cuenta las particularidades del proceso en México. Por ejemplo, le llaman a un bloque “licitación” cuando en realidad es sólo un tipo de proceso”. Por eso en nuestro esquema de front end cambió “Licitación” por “Convocatoria”.~~\n",
    "\n",
    "- La ley se refiere al concurso como \"licitación\" así que así queda.\n",
    "\n",
    "\n",
    "- En los bloques de Adjudicaciones, Contrataciones e Implementación se contempla que haya más de una adjudicación o contrato por eso se expresa “Adjudicación 1”, “Contrato 1” y en \"Implementación\" el Título del contrato.\n",
    "\n",
    " "
   ]
  },
  {
   "cell_type": "code",
   "execution_count": null,
   "metadata": {
    "collapsed": true
   },
   "outputs": [],
   "source": []
  }
 ],
 "metadata": {
  "kernelspec": {
   "display_name": "Python 2",
   "language": "python",
   "name": "python2"
  },
  "language_info": {
   "codemirror_mode": {
    "name": "ipython",
    "version": 2
   },
   "file_extension": ".py",
   "mimetype": "text/x-python",
   "name": "python",
   "nbconvert_exporter": "python",
   "pygments_lexer": "ipython2",
   "version": "2.7.13"
  }
 },
 "nbformat": 4,
 "nbformat_minor": 2
}
