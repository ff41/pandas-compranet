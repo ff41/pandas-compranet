{
 "cells": [
  {
   "cell_type": "markdown",
   "metadata": {},
   "source": [
    "# Esquema página single de un contrato"
   ]
  },
  {
   "cell_type": "markdown",
   "metadata": {},
   "source": [
    "## Datos generales del proceso de contratación  (1)\n",
    "\n",
    "- Dependencia\n",
    "    - Unidad Compradora\n",
    "- Proveedor\n",
    "- Título\n",
    "- Importe\n",
    "- Fecha inicio\n",
    "- Fecha Fin"
   ]
  },
  {
   "cell_type": "markdown",
   "metadata": {},
   "source": [
    "## Datos generales del proceso de contratación (2)\n",
    "\n",
    "- Organizaciones\n",
    "    - Esquema \"Party\"\n",
    "- Título\n",
    "- Importe\n",
    "- Fecha inicio del contrato\n",
    "- Fecha Fin del contrato"
   ]
  },
  {
   "cell_type": "markdown",
   "metadata": {},
   "source": [
    "## Planeación \n",
    "\n",
    "- Título del expediente\n",
    "- Presupuesto\n",
    "    - Ramo\n",
    "    - Valor\n",
    "        - monto\n",
    "        - moneda\n",
    "    - Clave de cartera\n",
    "    - Crédito externo\n",
    "        - Organismo internacional financiero\n",
    "    - Aportación federal\n",
    "    - *Documentos*"
   ]
  },
  {
   "cell_type": "markdown",
   "metadata": {},
   "source": [
    "## Convocatoria\n",
    "\n",
    "- *Descripción*\n",
    "- __*Estatus de la licitación*__\n",
    "- Fecha de publicación\n",
    "    - Fecha inicio\n",
    "    - Fecha fin\n",
    "- Carácter\n",
    "- Tipo de procedimiento\n",
    "- Tipo de contratación\n",
    "- Forma del procedimiento\n",
    "    - Electrónica, Presencial, Mixta\n",
    "- *Artículos por adquirir*\n",
    "- *Número de participantes*\n",
    "- *Monto estimado*\n",
    "- *Criterios de elegibilidad*\n",
    "- *Criterios de convocatoria*\n",
    "- *Junta de aclaraciones*"
   ]
  },
  {
   "cell_type": "markdown",
   "metadata": {},
   "source": [
    "## Adjudicaciones\n",
    "\n",
    "- Adjudicación 1\n",
    "    - Título\n",
    "    - *Descripción*\n",
    "    - Fecha\n",
    "    - *Estatus*\n",
    "    - Valor adjudicado\n",
    "      - monto\n",
    "      - moneda\n",
    "    - Proveedores\n",
    "      - nombre legal\n",
    "    \n",
    "\n",
    "\n"
   ]
  },
  {
   "cell_type": "markdown",
   "metadata": {},
   "source": [
    "## Contratos\n",
    "\n",
    "- Contrato 1\n",
    "    - Título\n",
    "    - *Descripción*\n",
    "    - Estatus\n",
    "    - Fecha de celebración\n"
   ]
  },
  {
   "cell_type": "markdown",
   "metadata": {
    "collapsed": true
   },
   "source": [
    "## Implementación\n",
    "\n",
    "- Título contrato\n",
    "- Monto contratado\n",
    "- *Monto pagado*\n",
    "- *Transacciones*\n",
    "- *Entregas*"
   ]
  },
  {
   "cell_type": "markdown",
   "metadata": {},
   "source": [
    "# __Anotaciones__:\n",
    "\n",
    "\n",
    "\n"
   ]
  },
  {
   "cell_type": "markdown",
   "metadata": {},
   "source": [
    "- Hay dos versiones del bloque “Descripción general del proceso de contratación”.\n",
    "1) La primera versión está esquematizada como la página anterior de un contrato que teníamos en QQW. Para esta versión se agregaron los campos relevantes que se discutieron en la última reunión:\n",
    "\n",
    "- Dependencia\n",
    "    - Unidad Compradora\n",
    "- Proveedor\n",
    "- Título\n",
    "- Importe\n",
    "- Fecha inicio\n",
    "- Fecha Fin\n",
    "\n",
    "2)  La segunda versión se basa en el esquema de OCDS en el sentido que se incluye dentro de este bloque el array de “Organizaciones”.  Aquí se enlistarían las organizaciones interesadas con su información de “rol”, “dirección” y “legal name” como lo establece el objeto “Party” además de  si es matriz, subsidiaria, etc: \n",
    "\n",
    "Datos generales del proceso de contratación\n",
    "- Organizaciones\n",
    "    - Esquema \"Party\"\n",
    "- Título\n",
    "- Importe\n",
    "- Fecha inicio del contrato\n",
    "- Fecha Fin del contrato\n",
    "\n",
    "La diferencia es que tanta información mencionaremos en la página single de un proceso de contratación de las organizaciones, ésto para no repetirla en todos los procesos. \n",
    "\n",
    "En la página de Contratos abiertos CDMX (http://contratosabiertos.cdmx.gob.mx/contrato/OCDS-87SD3T-SEFIN-DRM-AD-2017-2017) se repite el proveedor y el comprador en forma de hipervínculo en casi todos los bloques del proceso. Si quieres más información del proveedor das click y te lleva a su información específica:\n",
    "http://contratosabiertos.cdmx.gob.mx/proveedor/EEHS4801212G5\n",
    "\n",
    "- En los diferentes bloques van a encontrar campos en itálica. Esto significa que nosotros no tenemos datos para este campo y que tampoco los hemos contemplado en nuestro esquema. La razón simplemente es porque no hay una columna en Compranet para éstos. Sin embargo, en la última junta se charló sobre lo útil que sería ejemplificar cuan poca información provee compranet sobre los procesos de contratación. Los agregué para entender cuanta información no provee compranet versus el OCDS completo para decidir que conviene mostrar en nuestra página. La única información extra que no se agregó del OCDS que no contemplamos ni en nueestro esquema ni en el front end es la de los “Amendments” o como dijo K, parches que modifican la información del bloque.\n",
    "\n",
    "\n",
    "- El campo “Estatus de la licitación” no lo tenemos pero lo podemos calcular tomando el tiempo de Fecha de convocatoria y Fecha de apertura de proposiciones.\n",
    "\n",
    "\n",
    "- La traducción que existe en el github de OCDS CDMX( https://github.com/gabelula/mx-ocds/blob/master/es_MX.csv) es literal del inglés al español y no toma en cuenta las particularidades del proceso en México. Por ejemplo, le llaman a un bloque “licitación” cuando en realidad es sólo un tipo de proceso”. Por eso en nuestro esquema de front end cambió “Licitación” por “Convocatoria”.\n",
    "\n",
    "\n",
    "- En los bloques de Adjudicaciones, Contrataciones e Implementación se contempla que haya más de una adjudicación o contrato por eso se expresa “Adjudicación 1”, “Contrato 1” y en \"Implementación\" el Título del contrato.\n",
    "\n",
    " "
   ]
  },
  {
   "cell_type": "code",
   "execution_count": null,
   "metadata": {
    "collapsed": true
   },
   "outputs": [],
   "source": []
  }
 ],
 "metadata": {
  "kernelspec": {
   "display_name": "Python 2",
   "language": "python",
   "name": "python2"
  },
  "language_info": {
   "codemirror_mode": {
    "name": "ipython",
    "version": 2
   },
   "file_extension": ".py",
   "mimetype": "text/x-python",
   "name": "python",
   "nbconvert_exporter": "python",
   "pygments_lexer": "ipython2",
   "version": "2.7.13"
  }
 },
 "nbformat": 4,
 "nbformat_minor": 2
}
